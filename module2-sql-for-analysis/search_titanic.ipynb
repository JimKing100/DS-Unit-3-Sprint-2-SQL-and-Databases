{
  "nbformat": 4,
  "nbformat_minor": 0,
  "metadata": {
    "colab": {
      "name": "Untitled47.ipynb",
      "provenance": [],
      "include_colab_link": true
    },
    "kernelspec": {
      "name": "python3",
      "display_name": "Python 3"
    }
  },
  "cells": [
    {
      "cell_type": "markdown",
      "metadata": {
        "id": "view-in-github",
        "colab_type": "text"
      },
      "source": [
        "<a href=\"https://colab.research.google.com/github/JimKing100/DS-Unit-3-Sprint-2-SQL-and-Databases/blob/master/module2-sql-for-analysis/search_titanic.ipynb\" target=\"_parent\"><img src=\"https://colab.research.google.com/assets/colab-badge.svg\" alt=\"Open In Colab\"/></a>"
      ]
    },
    {
      "cell_type": "code",
      "metadata": {
        "id": "PBRnYFAuOD24",
        "colab_type": "code",
        "colab": {
          "base_uri": "https://localhost:8080/",
          "height": 122
        },
        "outputId": "53ed3f73-3484-4c8c-9ddb-a23ca20c5b3f"
      },
      "source": [
        "!pip install psycopg2-binary"
      ],
      "execution_count": 1,
      "outputs": [
        {
          "output_type": "stream",
          "text": [
            "Collecting psycopg2-binary\n",
            "\u001b[?25l  Downloading https://files.pythonhosted.org/packages/1e/c0/16303cef8d54fdcfae7be7880cf471f21449225687f61cc3be2a7ef4e6e5/psycopg2_binary-2.8.4-cp36-cp36m-manylinux1_x86_64.whl (2.9MB)\n",
            "\u001b[K     |████████████████████████████████| 2.9MB 5.0MB/s \n",
            "\u001b[?25hInstalling collected packages: psycopg2-binary\n",
            "Successfully installed psycopg2-binary-2.8.4\n"
          ],
          "name": "stdout"
        }
      ]
    },
    {
      "cell_type": "code",
      "metadata": {
        "id": "zVbYVnn8O20p",
        "colab_type": "code",
        "colab": {}
      },
      "source": [
        "import psycopg2"
      ],
      "execution_count": 0,
      "outputs": []
    },
    {
      "cell_type": "code",
      "metadata": {
        "id": "_5Bl-i0rO741",
        "colab_type": "code",
        "colab": {}
      },
      "source": [
        "host = 'salt.db.elephantsql.com'\n",
        "user = 'wsatpgnz'\n",
        "database = 'wsatpgnz'\n",
        "password = 'XVEGRlubTrvmenIrmXs0323JX60OMe-Q'"
      ],
      "execution_count": 0,
      "outputs": []
    },
    {
      "cell_type": "code",
      "metadata": {
        "id": "5n4urI4EO_tn",
        "colab_type": "code",
        "colab": {}
      },
      "source": [
        "pg_conn = psycopg2.connect(database=database, user=user, password=password, host=host)\n",
        "pg_cur = pg_conn.cursor()"
      ],
      "execution_count": 0,
      "outputs": []
    },
    {
      "cell_type": "code",
      "metadata": {
        "id": "6P9Yq1kWPKFO",
        "colab_type": "code",
        "colab": {}
      },
      "source": [
        "def execute(query, conn):\n",
        "  with conn:\n",
        "    with conn.cursor() as cur:\n",
        "      cur.execute(query)\n",
        "      result = cur.fetchall()\n",
        "  return list(result)"
      ],
      "execution_count": 0,
      "outputs": []
    },
    {
      "cell_type": "code",
      "metadata": {
        "id": "vPbUmuKZPx9N",
        "colab_type": "code",
        "colab": {}
      },
      "source": [
        "query1 = 'SELECT COUNT(survived) \\\n",
        "          FROM \"public\".\"titanic\" \\\n",
        "          WHERE survived = 1'"
      ],
      "execution_count": 0,
      "outputs": []
    },
    {
      "cell_type": "code",
      "metadata": {
        "id": "tnRWIcpsRRcF",
        "colab_type": "code",
        "colab": {}
      },
      "source": [
        "query2 = 'SELECT COUNT(survived) \\\n",
        "          FROM \"public\".\"titanic\" \\\n",
        "          WHERE survived = 0'"
      ],
      "execution_count": 0,
      "outputs": []
    },
    {
      "cell_type": "code",
      "metadata": {
        "id": "KbvJQyxNUiE8",
        "colab_type": "code",
        "colab": {}
      },
      "source": [
        "query3 = 'SELECT pclass, COUNT(survived) \\\n",
        "          FROM \"public\".\"titanic\" \\\n",
        "          WHERE survived = 1 \\\n",
        "          GROUP BY pclass \\\n",
        "          ORDER BY pclass'"
      ],
      "execution_count": 0,
      "outputs": []
    },
    {
      "cell_type": "code",
      "metadata": {
        "id": "5pgwAFmIPt6y",
        "colab_type": "code",
        "colab": {
          "base_uri": "https://localhost:8080/",
          "height": 34
        },
        "outputId": "f92c452f-ac58-4261-e53d-d5487206a94a"
      },
      "source": [
        "answer = execute(query1, pg_conn)\n",
        "print(answer[0][0], 'survivors on the Titanic')"
      ],
      "execution_count": 15,
      "outputs": [
        {
          "output_type": "stream",
          "text": [
            "342 survivors on the Titanic\n"
          ],
          "name": "stdout"
        }
      ]
    },
    {
      "cell_type": "code",
      "metadata": {
        "id": "uyRho9uyRe6G",
        "colab_type": "code",
        "colab": {
          "base_uri": "https://localhost:8080/",
          "height": 34
        },
        "outputId": "e89e1f5a-f6df-4dad-f9d1-938408e813ec"
      },
      "source": [
        "answer = execute(query2, pg_conn)\n",
        "print(answer[0][0], 'died on the Titanic')"
      ],
      "execution_count": 18,
      "outputs": [
        {
          "output_type": "stream",
          "text": [
            "545 died on the Titanic\n"
          ],
          "name": "stdout"
        }
      ]
    },
    {
      "cell_type": "code",
      "metadata": {
        "id": "dMEa1fNKU4EE",
        "colab_type": "code",
        "colab": {
          "base_uri": "https://localhost:8080/",
          "height": 68
        },
        "outputId": "5d5d350b-e4a2-4b3e-e2d8-cba4fbd6cf25"
      },
      "source": [
        "answer = execute(query3, pg_conn)\n",
        "print(answer[0][1], 'survivors from class', answer[0][0])\n",
        "print(answer[1][1], 'survivors from class', answer[1][0])\n",
        "print(answer[2][1], 'survivors from class', answer[2][0])"
      ],
      "execution_count": 30,
      "outputs": [
        {
          "output_type": "stream",
          "text": [
            "136 survivors from class 1\n",
            "87 survivors from class 2\n",
            "119 survivors from class 3\n"
          ],
          "name": "stdout"
        }
      ]
    }
  ]
}
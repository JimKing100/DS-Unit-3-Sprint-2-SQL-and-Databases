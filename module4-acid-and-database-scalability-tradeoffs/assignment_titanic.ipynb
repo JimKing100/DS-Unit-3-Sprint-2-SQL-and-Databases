{
  "nbformat": 4,
  "nbformat_minor": 0,
  "metadata": {
    "colab": {
      "name": "Untitled47.ipynb",
      "provenance": [],
      "include_colab_link": true
    },
    "kernelspec": {
      "name": "python3",
      "display_name": "Python 3"
    }
  },
  "cells": [
    {
      "cell_type": "markdown",
      "metadata": {
        "id": "view-in-github",
        "colab_type": "text"
      },
      "source": [
        "<a href=\"https://colab.research.google.com/github/JimKing100/DS-Unit-3-Sprint-2-SQL-and-Databases/blob/master/module4-acid-and-database-scalability-tradeoffs/assignment_titanic.ipynb\" target=\"_parent\"><img src=\"https://colab.research.google.com/assets/colab-badge.svg\" alt=\"Open In Colab\"/></a>"
      ]
    },
    {
      "cell_type": "code",
      "metadata": {
        "id": "PBRnYFAuOD24",
        "colab_type": "code",
        "outputId": "53ed3f73-3484-4c8c-9ddb-a23ca20c5b3f",
        "colab": {
          "base_uri": "https://localhost:8080/",
          "height": 122
        }
      },
      "source": [
        "!pip install psycopg2-binary"
      ],
      "execution_count": 0,
      "outputs": [
        {
          "output_type": "stream",
          "text": [
            "Collecting psycopg2-binary\n",
            "\u001b[?25l  Downloading https://files.pythonhosted.org/packages/1e/c0/16303cef8d54fdcfae7be7880cf471f21449225687f61cc3be2a7ef4e6e5/psycopg2_binary-2.8.4-cp36-cp36m-manylinux1_x86_64.whl (2.9MB)\n",
            "\u001b[K     |████████████████████████████████| 2.9MB 5.0MB/s \n",
            "\u001b[?25hInstalling collected packages: psycopg2-binary\n",
            "Successfully installed psycopg2-binary-2.8.4\n"
          ],
          "name": "stdout"
        }
      ]
    },
    {
      "cell_type": "code",
      "metadata": {
        "id": "zVbYVnn8O20p",
        "colab_type": "code",
        "colab": {}
      },
      "source": [
        "import psycopg2"
      ],
      "execution_count": 0,
      "outputs": []
    },
    {
      "cell_type": "code",
      "metadata": {
        "id": "_5Bl-i0rO741",
        "colab_type": "code",
        "colab": {}
      },
      "source": [
        "host = 'salt.db.elephantsql.com'\n",
        "user = 'wsatpgnz'\n",
        "database = 'wsatpgnz'\n",
        "password = 'XVEGRlubTrvmenIrmXs0323JX60OMe-Q'"
      ],
      "execution_count": 0,
      "outputs": []
    },
    {
      "cell_type": "code",
      "metadata": {
        "id": "5n4urI4EO_tn",
        "colab_type": "code",
        "colab": {}
      },
      "source": [
        "pg_conn = psycopg2.connect(database=database, user=user, password=password, host=host)\n",
        "pg_cur = pg_conn.cursor()"
      ],
      "execution_count": 0,
      "outputs": []
    },
    {
      "cell_type": "code",
      "metadata": {
        "id": "6P9Yq1kWPKFO",
        "colab_type": "code",
        "colab": {}
      },
      "source": [
        "def execute(query, conn):\n",
        "  with conn:\n",
        "    with conn.cursor() as cur:\n",
        "      cur.execute(query)\n",
        "      result = cur.fetchall()\n",
        "  return list(result)"
      ],
      "execution_count": 0,
      "outputs": []
    },
    {
      "cell_type": "code",
      "metadata": {
        "id": "vPbUmuKZPx9N",
        "colab_type": "code",
        "colab": {}
      },
      "source": [
        "query1 = 'SELECT COUNT(survived) \\\n",
        "          FROM \"public\".\"titanic\" \\\n",
        "          WHERE survived = 1'"
      ],
      "execution_count": 0,
      "outputs": []
    },
    {
      "cell_type": "code",
      "metadata": {
        "id": "tnRWIcpsRRcF",
        "colab_type": "code",
        "colab": {}
      },
      "source": [
        "query2 = 'SELECT COUNT(survived) \\\n",
        "          FROM \"public\".\"titanic\" \\\n",
        "          WHERE survived = 0'"
      ],
      "execution_count": 0,
      "outputs": []
    },
    {
      "cell_type": "code",
      "metadata": {
        "id": "KbvJQyxNUiE8",
        "colab_type": "code",
        "colab": {}
      },
      "source": [
        "query3 = 'SELECT pclass, COUNT(survived) \\\n",
        "          FROM \"public\".\"titanic\" \\\n",
        "          WHERE survived = 1 \\\n",
        "          GROUP BY pclass \\\n",
        "          ORDER BY pclass'"
      ],
      "execution_count": 0,
      "outputs": []
    },
    {
      "cell_type": "code",
      "metadata": {
        "id": "ztsNolbhW0yT",
        "colab_type": "code",
        "colab": {}
      },
      "source": [
        "query4 = 'SELECT pclass, COUNT(survived) \\\n",
        "          FROM \"public\".\"titanic\" \\\n",
        "          WHERE survived = 0 \\\n",
        "          GROUP BY pclass \\\n",
        "          ORDER BY pclass'"
      ],
      "execution_count": 0,
      "outputs": []
    },
    {
      "cell_type": "code",
      "metadata": {
        "id": "lVvqf78_XPCl",
        "colab_type": "code",
        "colab": {}
      },
      "source": [
        "query5 = 'SELECT  survived, AVG(age) \\\n",
        "          FROM \"public\".\"titanic\" \\\n",
        "          GROUP BY survived \\\n",
        "          ORDER BY survived'"
      ],
      "execution_count": 0,
      "outputs": []
    },
    {
      "cell_type": "code",
      "metadata": {
        "id": "PIWfWu2tZeam",
        "colab_type": "code",
        "colab": {}
      },
      "source": [
        "query6 = 'SELECT  pclass, AVG(age) \\\n",
        "          FROM \"public\".\"titanic\" \\\n",
        "          GROUP BY pclass \\\n",
        "          ORDER BY pclass'"
      ],
      "execution_count": 0,
      "outputs": []
    },
    {
      "cell_type": "code",
      "metadata": {
        "id": "dh_l6AnUaTtE",
        "colab_type": "code",
        "colab": {}
      },
      "source": [
        "query7 = 'SELECT  pclass, AVG(fare) \\\n",
        "          FROM \"public\".\"titanic\" \\\n",
        "          GROUP BY pclass \\\n",
        "          ORDER BY pclass'"
      ],
      "execution_count": 0,
      "outputs": []
    },
    {
      "cell_type": "code",
      "metadata": {
        "id": "HDh5hRbxa0IV",
        "colab_type": "code",
        "colab": {}
      },
      "source": [
        "query8 = 'SELECT  survived, AVG(fare) \\\n",
        "          FROM \"public\".\"titanic\" \\\n",
        "          GROUP BY survived \\\n",
        "          ORDER BY survived'"
      ],
      "execution_count": 0,
      "outputs": []
    },
    {
      "cell_type": "code",
      "metadata": {
        "id": "9BGgFAYeb-gr",
        "colab_type": "code",
        "colab": {}
      },
      "source": [
        "query9 = 'SELECT pclass, AVG(siblings) \\\n",
        "          FROM \"public\".\"titanic\" \\\n",
        "          GROUP BY pclass \\\n",
        "          ORDER BY pclass'"
      ],
      "execution_count": 0,
      "outputs": []
    },
    {
      "cell_type": "code",
      "metadata": {
        "id": "UmSB7k6hc43q",
        "colab_type": "code",
        "colab": {}
      },
      "source": [
        "query10 = 'SELECT survived, AVG(siblings) \\\n",
        "           FROM \"public\".\"titanic\" \\\n",
        "           GROUP BY survived \\\n",
        "           ORDER BY survived'"
      ],
      "execution_count": 0,
      "outputs": []
    },
    {
      "cell_type": "code",
      "metadata": {
        "id": "3JJ2WjAfdbhr",
        "colab_type": "code",
        "colab": {}
      },
      "source": [
        "query11 = 'SELECT pclass, AVG(parents) \\\n",
        "           FROM \"public\".\"titanic\" \\\n",
        "           GROUP BY pclass \\\n",
        "           ORDER BY pclass'"
      ],
      "execution_count": 0,
      "outputs": []
    },
    {
      "cell_type": "code",
      "metadata": {
        "id": "qCK7ztJqd5Eb",
        "colab_type": "code",
        "colab": {}
      },
      "source": [
        "query12 = 'SELECT survived, AVG(parents) \\\n",
        "           FROM \"public\".\"titanic\" \\\n",
        "           GROUP BY survived \\\n",
        "           ORDER BY survived'"
      ],
      "execution_count": 0,
      "outputs": []
    },
    {
      "cell_type": "code",
      "metadata": {
        "id": "Lz3jg-daeWS5",
        "colab_type": "code",
        "colab": {}
      },
      "source": [
        "query13 = 'SELECT name, COUNT(*) \\\n",
        "           FROM \"public\".\"titanic\" \\\n",
        "           GROUP BY name \\\n",
        "           HAVING COUNT(*) > 1'"
      ],
      "execution_count": 0,
      "outputs": []
    },
    {
      "cell_type": "code",
      "metadata": {
        "id": "ovlqSA9bie2g",
        "colab_type": "code",
        "outputId": "c57acf87-3102-45ee-fdae-31f90f312b2c",
        "colab": {
          "base_uri": "https://localhost:8080/",
          "height": 54
        }
      },
      "source": [
        "sec1 = 'SELECT name \\\n",
        "           FROM \"public\".\"titanic\" \\\n",
        "           WHERE (name LIKE '\n",
        "sec2 = \"'Mr.%'\"\n",
        "sec3 = ' OR name LIKE '\n",
        "sec4 = \"'Mrs.%'\"\n",
        "sec5 = ') AND siblings > 0'\n",
        "query14 = sec1 + sec2 + sec3 + sec4 + sec5\n",
        "print(query14)"
      ],
      "execution_count": 0,
      "outputs": [
        {
          "output_type": "stream",
          "text": [
            "SELECT name            FROM \"public\".\"titanic\"            WHERE (name LIKE 'Mr.%' OR name LIKE 'Mrs.%') AND siblings > 0\n"
          ],
          "name": "stdout"
        }
      ]
    },
    {
      "cell_type": "code",
      "metadata": {
        "id": "5pgwAFmIPt6y",
        "colab_type": "code",
        "outputId": "f92c452f-ac58-4261-e53d-d5487206a94a",
        "colab": {
          "base_uri": "https://localhost:8080/",
          "height": 34
        }
      },
      "source": [
        "answer = execute(query1, pg_conn)\n",
        "print(answer[0][0], 'survivors on the Titanic')"
      ],
      "execution_count": 0,
      "outputs": [
        {
          "output_type": "stream",
          "text": [
            "342 survivors on the Titanic\n"
          ],
          "name": "stdout"
        }
      ]
    },
    {
      "cell_type": "code",
      "metadata": {
        "id": "uyRho9uyRe6G",
        "colab_type": "code",
        "outputId": "e89e1f5a-f6df-4dad-f9d1-938408e813ec",
        "colab": {
          "base_uri": "https://localhost:8080/",
          "height": 34
        }
      },
      "source": [
        "answer = execute(query2, pg_conn)\n",
        "print(answer[0][0], 'died on the Titanic')"
      ],
      "execution_count": 0,
      "outputs": [
        {
          "output_type": "stream",
          "text": [
            "545 died on the Titanic\n"
          ],
          "name": "stdout"
        }
      ]
    },
    {
      "cell_type": "code",
      "metadata": {
        "id": "dMEa1fNKU4EE",
        "colab_type": "code",
        "outputId": "5d5d350b-e4a2-4b3e-e2d8-cba4fbd6cf25",
        "colab": {
          "base_uri": "https://localhost:8080/",
          "height": 68
        }
      },
      "source": [
        "answer = execute(query3, pg_conn)\n",
        "print(answer[0][1], 'survivors from class', answer[0][0])\n",
        "print(answer[1][1], 'survivors from class', answer[1][0])\n",
        "print(answer[2][1], 'survivors from class', answer[2][0])"
      ],
      "execution_count": 0,
      "outputs": [
        {
          "output_type": "stream",
          "text": [
            "136 survivors from class 1\n",
            "87 survivors from class 2\n",
            "119 survivors from class 3\n"
          ],
          "name": "stdout"
        }
      ]
    },
    {
      "cell_type": "code",
      "metadata": {
        "id": "j5n5WBRoXAyc",
        "colab_type": "code",
        "outputId": "acb0d33d-db5e-4474-8319-a7a4fac98cca",
        "colab": {
          "base_uri": "https://localhost:8080/",
          "height": 68
        }
      },
      "source": [
        "answer = execute(query4, pg_conn)\n",
        "print(answer[0][1], 'died from class', answer[0][0])\n",
        "print(answer[1][1], 'died from class', answer[1][0])\n",
        "print(answer[2][1], 'died from class', answer[2][0])"
      ],
      "execution_count": 0,
      "outputs": [
        {
          "output_type": "stream",
          "text": [
            "80 died from class 1\n",
            "97 died from class 2\n",
            "368 died from class 3\n"
          ],
          "name": "stdout"
        }
      ]
    },
    {
      "cell_type": "code",
      "metadata": {
        "id": "fwdun7yvXxwc",
        "colab_type": "code",
        "outputId": "a6e6fbe7-9a43-4395-e607-5927deb15a89",
        "colab": {
          "base_uri": "https://localhost:8080/",
          "height": 51
        }
      },
      "source": [
        "answer = execute(query5, pg_conn)\n",
        "print('average age on those who died was', answer[0][1])\n",
        "print('average age on those who suvived was', answer[1][1])"
      ],
      "execution_count": 0,
      "outputs": [
        {
          "output_type": "stream",
          "text": [
            "average age on those who died was 30.1541284403669725\n",
            "average age on those who suvived was 28.4122807017543860\n"
          ],
          "name": "stdout"
        }
      ]
    },
    {
      "cell_type": "code",
      "metadata": {
        "id": "bU_ZLvMCZqgW",
        "colab_type": "code",
        "outputId": "714632da-1a51-4e48-8572-ecd7d246129b",
        "colab": {
          "base_uri": "https://localhost:8080/",
          "height": 68
        }
      },
      "source": [
        "answer = execute(query6, pg_conn)\n",
        "print('class', answer[0][0], 'average age is', answer[0][1])\n",
        "print('class', answer[1][0], 'average age is', answer[1][1])\n",
        "print('class', answer[2][0], 'average age is', answer[2][1])"
      ],
      "execution_count": 0,
      "outputs": [
        {
          "output_type": "stream",
          "text": [
            "class 1 average age is 38.7916666666666667\n",
            "class 2 average age is 29.8804347826086957\n",
            "class 3 average age is 25.2032854209445585\n"
          ],
          "name": "stdout"
        }
      ]
    },
    {
      "cell_type": "code",
      "metadata": {
        "id": "e_WIfJTIafVV",
        "colab_type": "code",
        "outputId": "cbd883a3-6fa2-46e1-c121-e171adc02f1f",
        "colab": {
          "base_uri": "https://localhost:8080/",
          "height": 68
        }
      },
      "source": [
        "answer = execute(query7, pg_conn)\n",
        "print('class', answer[0][0], 'average fare is', answer[0][1])\n",
        "print('class', answer[1][0], 'average fare is', answer[1][1])\n",
        "print('class', answer[2][0], 'average fare is', answer[2][1])"
      ],
      "execution_count": 0,
      "outputs": [
        {
          "output_type": "stream",
          "text": [
            "class 1 average fare is 84.1546874999999\n",
            "class 2 average fare is 20.6621831521739\n",
            "class 3 average fare is 13.7077073921971\n"
          ],
          "name": "stdout"
        }
      ]
    },
    {
      "cell_type": "code",
      "metadata": {
        "id": "h8y6jncTbBz7",
        "colab_type": "code",
        "outputId": "2948cfd7-e2e0-44c3-ec50-faf6dac9858c",
        "colab": {
          "base_uri": "https://localhost:8080/",
          "height": 51
        }
      },
      "source": [
        "answer = execute(query8, pg_conn)\n",
        "print('average fare of those who died is', answer[0][1])\n",
        "print('average fare of those who survived is', answer[1][1])"
      ],
      "execution_count": 0,
      "outputs": [
        {
          "output_type": "stream",
          "text": [
            "average fare of those who died is 22.2085840366972\n",
            "average fare of those who survived is 48.3954076023392\n"
          ],
          "name": "stdout"
        }
      ]
    },
    {
      "cell_type": "code",
      "metadata": {
        "id": "-vSXDndScbNQ",
        "colab_type": "code",
        "outputId": "1d739373-106e-44bc-fd90-a48085cc0bad",
        "colab": {
          "base_uri": "https://localhost:8080/",
          "height": 68
        }
      },
      "source": [
        "answer = execute(query9, pg_conn)\n",
        "print('class', answer[0][0], 'average # of siblings is', answer[0][1])\n",
        "print('class', answer[1][0], 'average # of siblings is', answer[1][1])\n",
        "print('class', answer[2][0], 'average # of siblings is', answer[2][1])"
      ],
      "execution_count": 0,
      "outputs": [
        {
          "output_type": "stream",
          "text": [
            "class 1 average # of siblings is 0.41666666666666666667\n",
            "class 2 average # of siblings is 0.40217391304347826087\n",
            "class 3 average # of siblings is 0.62012320328542094456\n"
          ],
          "name": "stdout"
        }
      ]
    },
    {
      "cell_type": "code",
      "metadata": {
        "id": "XgiV-lKMdF5k",
        "colab_type": "code",
        "outputId": "a1c2550a-4289-425f-8888-df78f30b1e08",
        "colab": {
          "base_uri": "https://localhost:8080/",
          "height": 51
        }
      },
      "source": [
        "answer = execute(query10, pg_conn)\n",
        "print('average # siblings of those who died is', answer[0][1])\n",
        "print('average # siblings of those who survived is', answer[1][1])"
      ],
      "execution_count": 0,
      "outputs": [
        {
          "output_type": "stream",
          "text": [
            "average # siblings of those who died is 0.55779816513761467890\n",
            "average # siblings of those who survived is 0.47368421052631578947\n"
          ],
          "name": "stdout"
        }
      ]
    },
    {
      "cell_type": "code",
      "metadata": {
        "id": "4wVqh1Fqdr8s",
        "colab_type": "code",
        "outputId": "8b802cc2-ba31-460c-ddd4-6894a80489dd",
        "colab": {
          "base_uri": "https://localhost:8080/",
          "height": 68
        }
      },
      "source": [
        "answer = execute(query11, pg_conn)\n",
        "print('class', answer[0][0], 'average # of parents is', answer[0][1])\n",
        "print('class', answer[1][0], 'average # of parents is', answer[1][1])\n",
        "print('class', answer[2][0], 'average # of parents is', answer[2][1])"
      ],
      "execution_count": 0,
      "outputs": [
        {
          "output_type": "stream",
          "text": [
            "class 1 average # of parents is 0.35648148148148148148\n",
            "class 2 average # of parents is 0.38043478260869565217\n",
            "class 3 average # of parents is 0.39630390143737166324\n"
          ],
          "name": "stdout"
        }
      ]
    },
    {
      "cell_type": "code",
      "metadata": {
        "id": "MX_oYjiAeDsL",
        "colab_type": "code",
        "outputId": "88097a70-10ba-4a51-e6d6-89799fbb219d",
        "colab": {
          "base_uri": "https://localhost:8080/",
          "height": 51
        }
      },
      "source": [
        "answer = execute(query12, pg_conn)\n",
        "print('average # parents of those who died is', answer[0][1])\n",
        "print('average # parents of those who survived is', answer[1][1])"
      ],
      "execution_count": 0,
      "outputs": [
        {
          "output_type": "stream",
          "text": [
            "average # parents of those who died is 0.33211009174311926606\n",
            "average # parents of those who survived is 0.46491228070175438596\n"
          ],
          "name": "stdout"
        }
      ]
    },
    {
      "cell_type": "code",
      "metadata": {
        "id": "DWwUzpDQevF3",
        "colab_type": "code",
        "outputId": "5027098c-ef52-44f7-f141-e8707d0a883e",
        "colab": {
          "base_uri": "https://localhost:8080/",
          "height": 51
        }
      },
      "source": [
        "answer = execute(query13, pg_conn)\n",
        "print(answer)\n",
        "print('No duplicate names')"
      ],
      "execution_count": 0,
      "outputs": [
        {
          "output_type": "stream",
          "text": [
            "[]\n",
            "No duplicate names\n"
          ],
          "name": "stdout"
        }
      ]
    },
    {
      "cell_type": "code",
      "metadata": {
        "id": "1VTNPamnhUAQ",
        "colab_type": "code",
        "outputId": "dd5feb0e-8746-4f58-f4ed-d642dc6f8538",
        "colab": {
          "base_uri": "https://localhost:8080/",
          "height": 54
        }
      },
      "source": [
        "answer = execute(query14, pg_conn)\n",
        "print(answer)"
      ],
      "execution_count": 0,
      "outputs": [
        {
          "output_type": "stream",
          "text": [
            "[('Mr. Owen Harris Braund',), ('Mrs. John Bradley (Florence Briggs Thayer) Cumings',), ('Mrs. Jacques Heath (Lily May Peel) Futrelle',), ('Mrs. Nicholas (Adele Achem) Nasser',), ('Mr. Anders Johan Andersson',), ('Mrs. Julius (Emelia Maria Vandemoortele) Vander Planke',), ('Mrs. Carl Oscar (Selma Augusta Emilia Johansson) Asplund',), ('Mr. Charles Alexander Fortune',), ('Mrs. William Augustus (Marie Eugenie) Spencer',), ('Mr. Edgar Joseph Meyer',), ('Mr. Alexander Oskar Holverson',), ('Mrs. Johan (Johanna Persdotter Larsson) Ahlin',), ('Mrs. William John Robert (Dorothy Ann Wonnacott) Turpin',), ('Mr. Denis Lennon',), ('Mr. Youssef Samaan',), ('Mrs. Josef (Josefine Franchi) Arnold-Franchi',), ('Mrs. Henry Sleeper (Myna Haxtun) Harper',), ('Mrs. Lizzie (Elizabeth Anne Wilkinson) Faunthorpe',), ('Mr. Henry Birkhardt Harris',), ('Mr. Vincenz Kink',), ('Mr. Apostolos Chronopoulos',), ('Mrs. Karl Alfred (Maria Mathilda Gustafsson) Backstrom',), ('Mr. William Neal Ford',), ('Mr. Herbert Fuller Chaffee',), ('Mr. Bertram Frank Dean',), ('Mr. Sinai Kantor',), ('Mr. Anders Vilhelm Gustafsson',), ('Mr. William John Robert Turpin',), ('Mr. Stanley George Hickman',), ('Mr. Nicholas Nasser',), ('Mrs. Alexander A (Grace Charity Laury) Robins',), ('Mrs. Leopold (Mathilde Francoise Pede) Weisz',), ('Mr. Jacques Heath Futrelle',), ('Mrs. Pekka Pietari (Elin Matilda Dolck) Hakkarainen',), ('Mr. Joseph Charles Nicholls',), ('Mrs. Thomas (Edith Wearne) Pears',), ('Mrs. William (Anna Bernhardina Karlsson) Skoog',), ('Mr. Klas Albin Klasen',), (\"Mrs. Thomas (Johanna Godfrey) O'Brien\",), ('Mr. John Bourke',), ('Mr. Frederick Sage',), ('Mr. Karl Alfred Backstrom',), ('Mr. Philip Kiernan',), ('Mr. Sidney Samuel Jacobsohn',), ('Mr. Frederick Maxfield Hoyt',), ('Mrs. Henry Birkhardt (Irene Wallach) Harris',), ('Mr. Stephen Hold',), ('Mr. Richard Leonard Beckwith',), ('Mrs. Wilhelm (Elna Matilda Persson) Strom',), ('Mr. William Arthur Lobb',), ('Mr. Emil Taussig',), ('Mr. Ernesti Arvid Panula',), ('Mr. Ernst Ulrik Persson',), ('Mrs. Stanton (Rosa Hunt) Abbott',), ('Mrs. Dickinson H (Helen Walton) Bishop',), ('Mr. Bernard McCoy',), ('Mrs. Victor de Satode (Maria Josefa Perez de Soto y Vallejo) Penasco y Castellana',), ('Mr. Samuel Abelson',), ('Mrs. William (Anna Sylfven) Lahtinen',), ('Mr. Benjamin Hart',), ('Mrs. Sinai (Miriam Sternin) Kantor',), ('Mrs. Frederic Oakley (Margaretta Corning Stone) Spedden',), ('Mrs. Albert Francis (Sylvia Mae Harbaugh) Caldwell',), ('Mr. George John Jr Sage',), ('Mrs. Frank John (Emily Alice Brown) Goldsmith',), ('Mr. Leo Edmondus Vander Planke',), ('Mrs. Henry William (Clara Heinsheimer) Frauenthal',), ('Mr. Thomas Clinton Pears',), ('Mrs. Thomas Henry (Mary E Finck) Davison',), ('Mr. Tannous Elias',), ('Mr. Josef Arnold-Franchi',), ('Mr. Wilhelm Skoog',), ('Mr. Sebastiano del Carlo',), (\"Mr. Thomas O'Brien\",), ('Mrs. Frank Manley (Anna Sophia Atkinson) Warren',), ('Mr. George Achilles Harder',), ('Mr. Jakob Alfred Wiklund',), ('Mrs. Edgar Joseph (Leila Saks) Meyer',), ('Mrs. Alexander Oskar (Mary Aline Towner) Holverson',), ('Mr. William Ernest Carter',), ('Mr. Johan Birger Gustafsson',), ('Mr. Pekka Pietari Hakkarainen',), ('Mr. Shadrach Gale',), ('Mrs. James Vivian (Lulu Thorne Christian) Drew',), ('Mrs. Ernst Gilbert (Anna Sigrid Maria Brogren) Danbom',), ('Mr. Viktor Richard Rosblom',), ('Mrs. Charles V (Ada Maria Winfield) Clarke',), ('Mrs. Percival (Florence Kate White) Thorneycroft',), ('Mrs. Charles Alexander (Alice Adelaide Slow) Louch',), ('Mr. William Baird Silvey',), ('Mrs. Sidney (Emily Hocking) Richards',), ('Mr. Mark Fortune',), ('Mrs. Benjamin (Esther Ada Bloomfield) Hart',), ('Mr. Johan Emil Petterson',), ('Mr. Edwy Arthur West',), ('Mr. Ingvald Olai Olsen Hagland',), ('Mr. Samuel L Goldenberg',), ('Mrs. Frederick R (Marion) Kenyon',), ('Mrs. Edwy Arthur (Ada Mary Worth) West',), ('Mr. Peter Henry Renouf',), ('Mr. Lewis Richard Braund',), ('Mr. Dickinson H Bishop',), ('Mrs. Frederick Maxfield (Jane Anne Forby) Hoyt',), ('Mr. Konrad Mathias Reiersen Hagland',), ('Mrs. Hudson J C (Bessie Waldo Daniels) Allison',), ('Mr. Victor de Satode Penasco y Castellana',), ('Mrs. Martin (Elizabeth L. Barrett) Rothschild',), ('Mrs. William A (Florence Agnes Hughes) Angle',), ('Mr. Richard George Hocking',), ('Mr. Joseph Jr Elias',), ('Mr. Edward Beane',), ('Mr. Walter Donald Douglas',), ('Mrs. Edward (Ethel Clarke) Beane',), ('Mr. Frank John Goldsmith',), ('Mrs. Emil (Tillie Mandelbaum) Taussig',), ('Mrs. Guillaume Joseph (Emma) de Messemaeker',), ('Mr. Alfred J Davies',), ('Mrs. Edward Dale (Charlotte Lamson) Appleton',), ('Mrs. William Baird (Alice Munger) Silvey',), ('Mrs. Joseph (Maria Elias) Caram',), ('Mrs. John Borland (Marian Longstreth Morris) Thayer',), ('Mr. Maxmillian Frolicher-Stehli',), ('Mrs. Walter Bertram (Martha Eustis) Stephenson',), ('Mr. John Henry Chapman',), ('Mr. Jean Baptiste Van Impe',), ('Mrs. Sidney Samuel (Amy Frances Christy) Jacobsohn',), ('Mr. Edvard Bengtsson Lindell',), ('Mrs. Joseph (Juliette Marie Louise Lafargue) Laroche',), ('Mrs. Anders Johan (Alfrida Konstantia Brogren) Andersson',), ('Mr. Ernst Gilbert Danbom',), ('Mrs. William Arthur (Cordelia K Stanlick) Lobb',), ('Mr. Antoni Yasbeck',), ('Mr. Edwin Nelson Jr Kimball',), ('Mr. Sahid Nakid',), ('Mr. Harvey Collyer',), ('Mr. Percival Thorneycroft',), ('Mr. Henry Sleeper Harper',), ('Mr. Leonard Mark Hickman',), ('Mrs. John (Catherine) Bourke',), ('Mr. Eino William Lindqvist',), ('Mr. Lewis Hickman',), ('Mrs. Elmer Zebley (Juliet Cummins Wright) Taylor',), ('Mrs. Thomas William Solomon (Elizabeth Catherine Ford) Brown',), ('Mr. Thornton Davidson',), ('Mrs. Frederick (Augusta Tyler) Goodwin',), ('Mr. Charles Edward Goodwin',), ('Mr. Thomas William Solomon Brown',), ('Mr. Joseph Philippe Lemercier Laroche',), ('Mr. Jaako Arnold Panula',), ('Mr. Albert Adrian Dick',), ('Mr. John Borland Thayer',), ('Mrs. John Jacob (Madeleine Talmadge Force) Astor',), ('Mr. Henrik Juul Hansen',), ('Mr. Elmer Zebley Taylor',), ('Mr. Svend Lauritz Jensen',), ('Mr. Norman Campbell Chambers',), ('Mrs. Peter Henry (Lillian Jefferys) Renouf',), ('Mr. Kurt Arnold Gottfrid Bryhl',), ('Mrs. Edward (Margaret Ann Watson) Ford',), ('Mr. Tyrell William Cavendish',), ('Mr. Neal McNamee',), ('Mr. Rossmore Edward Abbott',), ('Mr. Daniel Warner Marvin',), ('Mrs. Samuel (Jane Laver) Herman',), ('Mrs. William Ernest (Lucile Polk) Carter',), ('Mrs. John C (Anna Andrews) Hogeboom',), ('Mr. Daniel J Moran',), ('Mrs. Elizabeth (Eliza Needs) Hocking',), ('Mrs. Albert Adrian (Vera Gillespie) Dick',), ('Mr. Andrew G Johnston',), ('Mrs. Jean Baptiste (Rosalie Paula Govaert) Van Impe',), ('Mrs. Harvey (Charlotte Annie Tate) Collyer',), ('Mrs. Norman Campbell (Bertha Griggs) Chambers',), ('Mr. Albert Mallet',), ('Mrs. Charles Melville (Clara Jennings Gregg) Hays',), ('Mrs. Antoni (Selini Alexander) Yasbeck',), ('Mr. Douglas Bullen Sage',), ('Mrs. Samuel L (Edwiga Grabowska) Goldenberg',), ('Mrs. Ernest Courtenay (Lilian Hughes) Carter',), ('Mrs. George Dennick (Mary Hitchcock) Wick',), ('Mr. Claus Peter Hansen',), ('Mr. Frederick Edward Giles',), ('Mrs. Richard Leonard (Sallie Monypeny) Beckwith',), ('Mrs. Samuel (Hannah Wizosky) Abelson',)]\n"
          ],
          "name": "stdout"
        }
      ]
    }
  ]
}
{
  "nbformat": 4,
  "nbformat_minor": 0,
  "metadata": {
    "colab": {
      "name": "Untitled52.ipynb",
      "provenance": [],
      "include_colab_link": true
    },
    "kernelspec": {
      "name": "python3",
      "display_name": "Python 3"
    }
  },
  "cells": [
    {
      "cell_type": "markdown",
      "metadata": {
        "id": "view-in-github",
        "colab_type": "text"
      },
      "source": [
        "<a href=\"https://colab.research.google.com/github/JimKing100/DS-Unit-3-Sprint-2-SQL-and-Databases/blob/master/module4-acid-and-database-scalability-tradeoffs/cc_tester.ipynb\" target=\"_parent\"><img src=\"https://colab.research.google.com/assets/colab-badge.svg\" alt=\"Open In Colab\"/></a>"
      ]
    },
    {
      "cell_type": "code",
      "metadata": {
        "id": "Ggr6tKQCvfln",
        "colab_type": "code",
        "colab": {}
      },
      "source": [
        "import sqlite3"
      ],
      "execution_count": 0,
      "outputs": []
    },
    {
      "cell_type": "code",
      "metadata": {
        "id": "GusqqvQOvp5Y",
        "colab_type": "code",
        "colab": {}
      },
      "source": [
        "conn = sqlite3.connect('/content/tester.sqlite3')"
      ],
      "execution_count": 0,
      "outputs": []
    },
    {
      "cell_type": "code",
      "metadata": {
        "id": "LdPIbLhbwCu9",
        "colab_type": "code",
        "colab": {}
      },
      "source": [
        "query1 = \"\"\"\n",
        "CREATE TABLE IF NOT EXISTS Employee (Id int, Name varchar(255), Salary int, DepartmentId int);\n",
        "\"\"\""
      ],
      "execution_count": 0,
      "outputs": []
    },
    {
      "cell_type": "code",
      "metadata": {
        "id": "gs6XaXp2wH9_",
        "colab_type": "code",
        "colab": {
          "base_uri": "https://localhost:8080/",
          "height": 34
        },
        "outputId": "a68b26fc-8306-49db-e3c1-6d3effe049cb"
      },
      "source": [
        "curs1 = conn.cursor()\n",
        "curs1.execute(query1)"
      ],
      "execution_count": 27,
      "outputs": [
        {
          "output_type": "execute_result",
          "data": {
            "text/plain": [
              "<sqlite3.Cursor at 0x7f9dde2336c0>"
            ]
          },
          "metadata": {
            "tags": []
          },
          "execution_count": 27
        }
      ]
    },
    {
      "cell_type": "code",
      "metadata": {
        "id": "hMELTXTXweM8",
        "colab_type": "code",
        "colab": {}
      },
      "source": [
        "query2 = \"\"\"\n",
        "CREATE TABLE IF NOT EXISTS Department (Id int, Name varchar(255));\n",
        "\"\"\""
      ],
      "execution_count": 0,
      "outputs": []
    },
    {
      "cell_type": "code",
      "metadata": {
        "id": "xolRfq2KwsN9",
        "colab_type": "code",
        "colab": {
          "base_uri": "https://localhost:8080/",
          "height": 34
        },
        "outputId": "cc9f52b9-7bb6-437e-b163-05ab58dbbba3"
      },
      "source": [
        "curs2 = conn.cursor()\n",
        "curs2.execute(query2)"
      ],
      "execution_count": 29,
      "outputs": [
        {
          "output_type": "execute_result",
          "data": {
            "text/plain": [
              "<sqlite3.Cursor at 0x7f9dde233730>"
            ]
          },
          "metadata": {
            "tags": []
          },
          "execution_count": 29
        }
      ]
    },
    {
      "cell_type": "code",
      "metadata": {
        "id": "UATJteVYwyC9",
        "colab_type": "code",
        "colab": {}
      },
      "source": [
        "query3 = \"\"\"\n",
        "DELETE FROM Employee\n",
        "\"\"\""
      ],
      "execution_count": 0,
      "outputs": []
    },
    {
      "cell_type": "code",
      "metadata": {
        "id": "iOVI41Ntw6PI",
        "colab_type": "code",
        "colab": {
          "base_uri": "https://localhost:8080/",
          "height": 34
        },
        "outputId": "1d250d20-dd1e-42bf-d7b9-e3fc3bbebfd5"
      },
      "source": [
        "curs3 = conn.cursor()\n",
        "curs3.execute(query3)"
      ],
      "execution_count": 31,
      "outputs": [
        {
          "output_type": "execute_result",
          "data": {
            "text/plain": [
              "<sqlite3.Cursor at 0x7f9dde2337a0>"
            ]
          },
          "metadata": {
            "tags": []
          },
          "execution_count": 31
        }
      ]
    },
    {
      "cell_type": "code",
      "metadata": {
        "id": "_5UxBJmLxNiW",
        "colab_type": "code",
        "colab": {}
      },
      "source": [
        "query4 = \"\"\"\n",
        "INSERT INTO Employee (Id, Name, Salary, DepartmentId) values ('1', 'Joe', '85000', '1');\n",
        "\"\"\"\n",
        "query5 = \"\"\"\n",
        "INSERT INTO Employee (Id, Name, Salary, DepartmentId) values ('2', 'Henry', '80000', '2');\n",
        "\"\"\"\n",
        "query6 = \"\"\"\n",
        "INSERT INTO Employee (Id, Name, Salary, DepartmentId) values ('3', 'Sam', '60000', '2');\n",
        "\"\"\"\n",
        "query7 = \"\"\"\n",
        "INSERT INTO Employee (Id, Name, Salary, DepartmentId) values ('4', 'Max', '90000', '1');\n",
        "\"\"\"\n",
        "query8 = \"\"\"\n",
        "INSERT INTO Employee (Id, Name, Salary, DepartmentId) values ('5', 'Janet', '69000', '1');\n",
        "\"\"\"\n",
        "query9 = \"\"\"\n",
        "INSERT INTO Employee (Id, Name, Salary, DepartmentId) values ('6', 'Randy', '85000', '1');\n",
        "\"\"\"\n",
        "query10 = \"\"\"\n",
        "INSERT INTO Employee (Id, Name, Salary, DepartmentId) values ('7', 'Will', '70000', '1');\n",
        "\"\"\"\n"
      ],
      "execution_count": 0,
      "outputs": []
    },
    {
      "cell_type": "code",
      "metadata": {
        "id": "JCt4P_bixU46",
        "colab_type": "code",
        "colab": {
          "base_uri": "https://localhost:8080/",
          "height": 34
        },
        "outputId": "6ddb159d-7661-4329-f004-e64785c7d57b"
      },
      "source": [
        "curs4 = conn.cursor()\n",
        "curs4.execute(query4)\n",
        "curs5 = conn.cursor()\n",
        "curs5.execute(query5)\n",
        "curs6 = conn.cursor()\n",
        "curs6.execute(query6)\n",
        "curs7 = conn.cursor()\n",
        "curs7.execute(query7)\n",
        "curs8 = conn.cursor()\n",
        "curs8.execute(query8)\n",
        "curs9 = conn.cursor()\n",
        "curs9.execute(query9)\n",
        "curs10 = conn.cursor()\n",
        "curs10.execute(query10)"
      ],
      "execution_count": 33,
      "outputs": [
        {
          "output_type": "execute_result",
          "data": {
            "text/plain": [
              "<sqlite3.Cursor at 0x7f9dde2333b0>"
            ]
          },
          "metadata": {
            "tags": []
          },
          "execution_count": 33
        }
      ]
    },
    {
      "cell_type": "code",
      "metadata": {
        "id": "eJEOtdO4yvLj",
        "colab_type": "code",
        "colab": {}
      },
      "source": [
        "query11 = \"\"\"\n",
        "DELETE FROM Department\n",
        "\"\"\"\n",
        "query12 = \"\"\"\n",
        "INSERT INTO Department (Id, Name) values ('1', 'IT');\n",
        "\"\"\"\n",
        "query13 = \"\"\"\n",
        "INSERT INTO Department (Id, Name) values ('2', 'Sales');\n",
        "\"\"\""
      ],
      "execution_count": 0,
      "outputs": []
    },
    {
      "cell_type": "code",
      "metadata": {
        "id": "hkXhJd8wy77e",
        "colab_type": "code",
        "colab": {
          "base_uri": "https://localhost:8080/",
          "height": 34
        },
        "outputId": "7ee2b0fa-ccee-4638-a7ca-558b5c22d14d"
      },
      "source": [
        "curs11 = conn.cursor()\n",
        "curs11.execute(query11)\n",
        "curs12 = conn.cursor()\n",
        "curs12.execute(query12)\n",
        "curs13 = conn.cursor()\n",
        "curs13.execute(query13)"
      ],
      "execution_count": 35,
      "outputs": [
        {
          "output_type": "execute_result",
          "data": {
            "text/plain": [
              "<sqlite3.Cursor at 0x7f9dde233650>"
            ]
          },
          "metadata": {
            "tags": []
          },
          "execution_count": 35
        }
      ]
    },
    {
      "cell_type": "code",
      "metadata": {
        "id": "8J3KC9pOzk1O",
        "colab_type": "code",
        "colab": {}
      },
      "source": [
        "query14 = \"\"\"\n",
        "SELECT D.Name AS Department, E.Name AS Employee, E.Salary AS Salary \n",
        "FROM Employee E INNER JOIN Department D ON E.DepartmentId = D.Id \n",
        "WHERE (SELECT COUNT(DISTINCT(Salary)) FROM Employee \n",
        "       WHERE DepartmentId = E.DepartmentId AND Salary > E.Salary) < 3\n",
        "ORDER by E.DepartmentId, E.Salary DESC;\n",
        "\"\"\""
      ],
      "execution_count": 0,
      "outputs": []
    },
    {
      "cell_type": "code",
      "metadata": {
        "id": "RV9Fvv1U0gGv",
        "colab_type": "code",
        "colab": {
          "base_uri": "https://localhost:8080/",
          "height": 54
        },
        "outputId": "0143ddc2-3509-4ea4-9b8d-5f6f3c7677a4"
      },
      "source": [
        "curs14 = conn.cursor()\n",
        "print(curs14.execute(query14).fetchall())"
      ],
      "execution_count": 42,
      "outputs": [
        {
          "output_type": "stream",
          "text": [
            "[('IT', 'Max', 90000), ('IT', 'Joe', 85000), ('IT', 'Randy', 85000), ('IT', 'Will', 70000), ('Sales', 'Henry', 80000), ('Sales', 'Sam', 60000)]\n"
          ],
          "name": "stdout"
        }
      ]
    }
  ]
}
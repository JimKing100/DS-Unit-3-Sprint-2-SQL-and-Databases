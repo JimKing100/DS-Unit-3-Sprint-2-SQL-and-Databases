{
  "nbformat": 4,
  "nbformat_minor": 0,
  "metadata": {
    "colab": {
      "name": "Sprint-2-Module-2 SQLite-to-PostgreSQL.ipynb",
      "provenance": [],
      "collapsed_sections": [],
      "toc_visible": true,
      "include_colab_link": true
    },
    "kernelspec": {
      "name": "python3",
      "display_name": "Python 3"
    }
  },
  "cells": [
    {
      "cell_type": "markdown",
      "metadata": {
        "id": "view-in-github",
        "colab_type": "text"
      },
      "source": [
        "<a href=\"https://colab.research.google.com/github/JimKing100/DS-Unit-3-Sprint-2-SQL-and-Databases/blob/master/Sprint_2_Module_2_SQLite_to_PostgreSQL.ipynb\" target=\"_parent\"><img src=\"https://colab.research.google.com/assets/colab-badge.svg\" alt=\"Open In Colab\"/></a>"
      ]
    },
    {
      "cell_type": "markdown",
      "metadata": {
        "id": "7PM2GC77x3ZR",
        "colab_type": "text"
      },
      "source": [
        "### Transfer data from SQLite table to Postgres table"
      ]
    },
    {
      "cell_type": "code",
      "metadata": {
        "id": "44Wbu-Ysx0kS",
        "colab_type": "code",
        "colab": {}
      },
      "source": [
        "import sqlite3"
      ],
      "execution_count": 0,
      "outputs": []
    },
    {
      "cell_type": "code",
      "metadata": {
        "id": "Z2jEmyiqHfZ_",
        "colab_type": "code",
        "colab": {
          "base_uri": "https://localhost:8080/",
          "height": 122
        },
        "outputId": "24faa068-6a6d-43b2-8513-28a870819f8e"
      },
      "source": [
        "!pip install psycopg2-binary"
      ],
      "execution_count": 2,
      "outputs": [
        {
          "output_type": "stream",
          "text": [
            "Collecting psycopg2-binary\n",
            "\u001b[?25l  Downloading https://files.pythonhosted.org/packages/1e/c0/16303cef8d54fdcfae7be7880cf471f21449225687f61cc3be2a7ef4e6e5/psycopg2_binary-2.8.4-cp36-cp36m-manylinux1_x86_64.whl (2.9MB)\n",
            "\u001b[K     |████████████████████████████████| 2.9MB 2.7MB/s \n",
            "\u001b[?25hInstalling collected packages: psycopg2-binary\n",
            "Successfully installed psycopg2-binary-2.8.4\n"
          ],
          "name": "stdout"
        }
      ]
    },
    {
      "cell_type": "code",
      "metadata": {
        "id": "6lTXKDSRHlX9",
        "colab_type": "code",
        "colab": {}
      },
      "source": [
        "sl_conn =sqlite3.connect('northwind.sqlite')\n",
        "sl_cur = sl_conn.cursor()"
      ],
      "execution_count": 0,
      "outputs": []
    },
    {
      "cell_type": "code",
      "metadata": {
        "id": "F_7n1VUrHzp4",
        "colab_type": "code",
        "colab": {
          "base_uri": "https://localhost:8080/",
          "height": 34
        },
        "outputId": "03062f41-799e-4830-fd99-0ff4e34b22dc"
      },
      "source": [
        "sl_cur.execute('SELECT * FROM Shippers')"
      ],
      "execution_count": 5,
      "outputs": [
        {
          "output_type": "execute_result",
          "data": {
            "text/plain": [
              "<sqlite3.Cursor at 0x7f00ef902880>"
            ]
          },
          "metadata": {
            "tags": []
          },
          "execution_count": 5
        }
      ]
    },
    {
      "cell_type": "code",
      "metadata": {
        "id": "7x0Friu0IBEM",
        "colab_type": "code",
        "colab": {}
      },
      "source": [
        "sl_shippers_table = sl_cur.fetchall()"
      ],
      "execution_count": 0,
      "outputs": []
    },
    {
      "cell_type": "code",
      "metadata": {
        "id": "8_HAtS2YIGEd",
        "colab_type": "code",
        "colab": {
          "base_uri": "https://localhost:8080/",
          "height": 34
        },
        "outputId": "1292dc0d-3764-4ec2-da09-9d755374f29e"
      },
      "source": [
        "sl_shippers_table[0]"
      ],
      "execution_count": 8,
      "outputs": [
        {
          "output_type": "execute_result",
          "data": {
            "text/plain": [
              "(1, 'Speedy Express', '(503) 555-9831')"
            ]
          },
          "metadata": {
            "tags": []
          },
          "execution_count": 8
        }
      ]
    },
    {
      "cell_type": "code",
      "metadata": {
        "id": "0uJH4pTtIO5F",
        "colab_type": "code",
        "colab": {
          "base_uri": "https://localhost:8080/",
          "height": 34
        },
        "outputId": "011001df-c1d8-4c98-b731-1fec4cfa55d9"
      },
      "source": [
        "len(sl_shippers_table)"
      ],
      "execution_count": 9,
      "outputs": [
        {
          "output_type": "execute_result",
          "data": {
            "text/plain": [
              "3"
            ]
          },
          "metadata": {
            "tags": []
          },
          "execution_count": 9
        }
      ]
    },
    {
      "cell_type": "code",
      "metadata": {
        "id": "kiVsPoXNIjVQ",
        "colab_type": "code",
        "colab": {}
      },
      "source": [
        "import psycopg2"
      ],
      "execution_count": 0,
      "outputs": []
    },
    {
      "cell_type": "code",
      "metadata": {
        "id": "xqUGIHsvIcOf",
        "colab_type": "code",
        "colab": {}
      },
      "source": [
        "host = 'salt.db.elephantsql.com'\n",
        "user = 'wsatpgnz'\n",
        "database = 'wsatpgnz'\n",
        "password ='XVEGRlubTrvmenIrmXs0323JX60OMe-Q'"
      ],
      "execution_count": 0,
      "outputs": []
    },
    {
      "cell_type": "code",
      "metadata": {
        "id": "Lf3pSLBSInuL",
        "colab_type": "code",
        "colab": {}
      },
      "source": [
        "pg_conn = psycopg2.connect(database= database, user=user, password=password, host=host)"
      ],
      "execution_count": 0,
      "outputs": []
    },
    {
      "cell_type": "code",
      "metadata": {
        "id": "pWvgouZXJRmG",
        "colab_type": "code",
        "colab": {}
      },
      "source": [
        "pg_cur = pg_conn.cursor()"
      ],
      "execution_count": 0,
      "outputs": []
    },
    {
      "cell_type": "code",
      "metadata": {
        "id": "LUZ-x4yLJZNa",
        "colab_type": "code",
        "colab": {}
      },
      "source": [
        "create_shippers_table = \"\"\"\n",
        "CREATE TABLE Shippers(\n",
        "    ShipperID serial PRIMARY KEY,\n",
        "    CompanyName VARCHAR (200) NOT NULL,\n",
        "    Phone VARCHAR (20) NOT NULL\n",
        ");\n",
        "\"\"\""
      ],
      "execution_count": 0,
      "outputs": []
    },
    {
      "cell_type": "code",
      "metadata": {
        "id": "FqYZjN-3KTSm",
        "colab_type": "code",
        "colab": {}
      },
      "source": [
        "pg_cur.execute(create_shippers_table)"
      ],
      "execution_count": 0,
      "outputs": []
    },
    {
      "cell_type": "code",
      "metadata": {
        "id": "OihgP1zsKjuh",
        "colab_type": "code",
        "colab": {}
      },
      "source": [
        "pg_conn.commit()"
      ],
      "execution_count": 0,
      "outputs": []
    },
    {
      "cell_type": "code",
      "metadata": {
        "id": "k7pcgyQFKzLo",
        "colab_type": "code",
        "colab": {}
      },
      "source": [
        ""
      ],
      "execution_count": 0,
      "outputs": []
    }
  ]
}
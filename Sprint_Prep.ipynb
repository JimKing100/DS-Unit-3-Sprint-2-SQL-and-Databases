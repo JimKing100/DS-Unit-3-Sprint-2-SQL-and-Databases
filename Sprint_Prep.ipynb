{
  "nbformat": 4,
  "nbformat_minor": 0,
  "metadata": {
    "colab": {
      "name": "Untitled53.ipynb",
      "provenance": [],
      "toc_visible": true,
      "include_colab_link": true
    },
    "kernelspec": {
      "name": "python3",
      "display_name": "Python 3"
    }
  },
  "cells": [
    {
      "cell_type": "markdown",
      "metadata": {
        "id": "view-in-github",
        "colab_type": "text"
      },
      "source": [
        "<a href=\"https://colab.research.google.com/github/JimKing100/DS-Unit-3-Sprint-2-SQL-and-Databases/blob/master/Sprint_Prep.ipynb\" target=\"_parent\"><img src=\"https://colab.research.google.com/assets/colab-badge.svg\" alt=\"Open In Colab\"/></a>"
      ]
    },
    {
      "cell_type": "markdown",
      "metadata": {
        "id": "uzpHh8Tyrlce",
        "colab_type": "text"
      },
      "source": [
        "### Create, Insert, Update, Query and Join Sqlite DB"
      ]
    },
    {
      "cell_type": "code",
      "metadata": {
        "id": "UwzRMsajrjMK",
        "colab_type": "code",
        "colab": {}
      },
      "source": [
        "import sqlite3"
      ],
      "execution_count": 0,
      "outputs": []
    },
    {
      "cell_type": "code",
      "metadata": {
        "id": "oXG90Dl4sGLQ",
        "colab_type": "code",
        "colab": {}
      },
      "source": [
        "conn = sqlite3.connect('/content/sprint_prep.sqlite3')"
      ],
      "execution_count": 0,
      "outputs": []
    },
    {
      "cell_type": "code",
      "metadata": {
        "id": "ussH1XvXsXSD",
        "colab_type": "code",
        "colab": {
          "base_uri": "https://localhost:8080/",
          "height": 34
        },
        "outputId": "bb6b11fd-eb8e-446c-e4e5-3d46d27cdfba"
      },
      "source": [
        "query1 = \"\"\"\n",
        "CREATE TABLE IF NOT EXISTS Employee (Id int, Name varchar(255), Salary int, DepartmentId int);\n",
        "\"\"\"\n",
        "curs1 = conn.cursor()\n",
        "curs1.execute(query1)"
      ],
      "execution_count": 4,
      "outputs": [
        {
          "output_type": "execute_result",
          "data": {
            "text/plain": [
              "<sqlite3.Cursor at 0x7fcc03dec880>"
            ]
          },
          "metadata": {
            "tags": []
          },
          "execution_count": 4
        }
      ]
    },
    {
      "cell_type": "code",
      "metadata": {
        "id": "T2menrcrsnX8",
        "colab_type": "code",
        "colab": {
          "base_uri": "https://localhost:8080/",
          "height": 34
        },
        "outputId": "28301e90-5041-4389-b273-2f4a51fd9b5b"
      },
      "source": [
        "query2 = \"\"\"\n",
        "CREATE TABLE IF NOT EXISTS Department (Id int, Name varchar(255));\n",
        "\"\"\"\n",
        "\n",
        "curs2 = conn.cursor()\n",
        "curs2.execute(query2)"
      ],
      "execution_count": 5,
      "outputs": [
        {
          "output_type": "execute_result",
          "data": {
            "text/plain": [
              "<sqlite3.Cursor at 0x7fcc03dec8f0>"
            ]
          },
          "metadata": {
            "tags": []
          },
          "execution_count": 5
        }
      ]
    },
    {
      "cell_type": "code",
      "metadata": {
        "id": "tPEUHnF7s51J",
        "colab_type": "code",
        "colab": {
          "base_uri": "https://localhost:8080/",
          "height": 34
        },
        "outputId": "50c96cc5-dcc6-442b-f1cc-0a059206e124"
      },
      "source": [
        "query3 = \"\"\"\n",
        "DELETE FROM Employee\n",
        "\"\"\"\n",
        "\n",
        "curs3 = conn.cursor()\n",
        "curs3.execute(query3)"
      ],
      "execution_count": 9,
      "outputs": [
        {
          "output_type": "execute_result",
          "data": {
            "text/plain": [
              "<sqlite3.Cursor at 0x7fcc03deca40>"
            ]
          },
          "metadata": {
            "tags": []
          },
          "execution_count": 9
        }
      ]
    },
    {
      "cell_type": "code",
      "metadata": {
        "id": "S87iF2bGtE_k",
        "colab_type": "code",
        "colab": {
          "base_uri": "https://localhost:8080/",
          "height": 34
        },
        "outputId": "73226c60-ba6a-4eee-8a09-6359cc3170a3"
      },
      "source": [
        "query4 = \"\"\"\n",
        "INSERT INTO Employee (Id, Name, Salary, DepartmentId) values ('1', 'Joe', '85000', '1'),\n",
        "                                                             ('2', 'Henry', '80000', '2'),\n",
        "                                                             ('3', 'Sam', '60000', '2'),\n",
        "                                                             ('4', 'Max', '90000', '1'),\n",
        "                                                             ('5', 'Janet', '69000', '1'),\n",
        "                                                             ('6', 'Randy', '85000', '1'),\n",
        "                                                             ('7', 'Will', '70000', '1');\n",
        "\"\"\"\n",
        "\n",
        "curs4 = conn.cursor()\n",
        "curs4.execute(query4)"
      ],
      "execution_count": 10,
      "outputs": [
        {
          "output_type": "execute_result",
          "data": {
            "text/plain": [
              "<sqlite3.Cursor at 0x7fcc03551340>"
            ]
          },
          "metadata": {
            "tags": []
          },
          "execution_count": 10
        }
      ]
    },
    {
      "cell_type": "code",
      "metadata": {
        "id": "8yctaQvQuV8D",
        "colab_type": "code",
        "colab": {
          "base_uri": "https://localhost:8080/",
          "height": 34
        },
        "outputId": "22db8900-afc9-4e8f-d5a1-511339d95c86"
      },
      "source": [
        "query5 = \"\"\"\n",
        "DELETE FROM Department\n",
        "\"\"\"\n",
        "query6 = \"\"\"\n",
        "INSERT INTO Department (Id, Name) values ('1', 'IT'),\n",
        "                                         ('2', 'Sales');\n",
        "\"\"\"\n",
        "\n",
        "curs5 = conn.cursor()\n",
        "curs5.execute(query5)\n",
        "curs6 = conn.cursor()\n",
        "curs6.execute(query6)"
      ],
      "execution_count": 11,
      "outputs": [
        {
          "output_type": "execute_result",
          "data": {
            "text/plain": [
              "<sqlite3.Cursor at 0x7fcc03551490>"
            ]
          },
          "metadata": {
            "tags": []
          },
          "execution_count": 11
        }
      ]
    },
    {
      "cell_type": "code",
      "metadata": {
        "id": "aU9XVcqVvB6H",
        "colab_type": "code",
        "colab": {
          "base_uri": "https://localhost:8080/",
          "height": 54
        },
        "outputId": "00183d58-dd6a-4e9e-ae8f-beeaffba6e93"
      },
      "source": [
        "query7 = \"\"\"\n",
        "SELECT D.Name AS Department, E.Name AS Employee, E.Salary AS Salary \n",
        "FROM Employee E INNER JOIN Department D ON E.DepartmentId = D.Id \n",
        "ORDER by E.DepartmentId, E.Salary DESC;\n",
        "\"\"\"\n",
        "\n",
        "curs7 = conn.cursor()\n",
        "print(curs7.execute(query7).fetchall())"
      ],
      "execution_count": 13,
      "outputs": [
        {
          "output_type": "stream",
          "text": [
            "[('IT', 'Max', 90000), ('IT', 'Joe', 85000), ('IT', 'Randy', 85000), ('IT', 'Will', 70000), ('IT', 'Janet', 69000), ('Sales', 'Henry', 80000), ('Sales', 'Sam', 60000)]\n"
          ],
          "name": "stdout"
        }
      ]
    },
    {
      "cell_type": "code",
      "metadata": {
        "id": "7Nm73HA9xW4g",
        "colab_type": "code",
        "colab": {
          "base_uri": "https://localhost:8080/",
          "height": 54
        },
        "outputId": "b14a20c3-5f5c-432d-dc52-097fa9311a67"
      },
      "source": [
        "query8 = \"\"\"\n",
        "UPDATE EMPLOYEE\n",
        "SET Salary = '87000'\n",
        "WHERE Id = 1\n",
        "\"\"\"\n",
        "\n",
        "curs8 = conn.cursor()\n",
        "curs8.execute(query8).fetchall()\n",
        "print(curs7.execute(query7).fetchall())"
      ],
      "execution_count": 16,
      "outputs": [
        {
          "output_type": "stream",
          "text": [
            "[('IT', 'Max', 90000), ('IT', 'Joe', 87000), ('IT', 'Randy', 85000), ('IT', 'Will', 70000), ('IT', 'Janet', 69000), ('Sales', 'Henry', 80000), ('Sales', 'Sam', 60000)]\n"
          ],
          "name": "stdout"
        }
      ]
    }
  ]
}